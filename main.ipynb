{
 "cells": [
  {
   "cell_type": "code",
   "execution_count": null,
   "metadata": {},
   "outputs": [],
   "source": [
    "import random\n",
    "import sys\n",
    "\n",
    "from loguru import logger\n",
    "\n",
    "from GraphOps import GraphOps\n",
    "from Graph import Graph\n",
    "from Node import Node\n",
    "from SchemaType import SchemaType"
   ]
  },
  {
   "cell_type": "code",
   "execution_count": null,
   "metadata": {},
   "outputs": [],
   "source": [
    "logger.remove()\n",
    "logger.add(\n",
    "    sys.stderr,\n",
    "    enqueue=True,\n",
    "    backtrace=True,\n",
    "    diagnose=True,\n",
    "    colorize=True,\n",
    "    level=\"INFO\",\n",
    ")"
   ]
  },
  {
   "cell_type": "code",
   "execution_count": null,
   "metadata": {},
   "outputs": [],
   "source": [
    "def generate_random_graph(size: int) -> Graph:\n",
    "    g = Graph()\n",
    "    for i in range(size):\n",
    "        n = Node(\n",
    "            random.randint(1, 10) / 10,\n",
    "            SchemaType.first() + (i % len(SchemaType)),\n",
    "            f\"n{i}\",\n",
    "        )\n",
    "        if random.random() > 0.5:\n",
    "            n.value = 1.0\n",
    "        g.add_node(n)\n",
    "        if i > 1:\n",
    "            g.add_edge(n, g.nodes[-2], weight=random.random())\n",
    "            g.add_edge(random.choice(g.nodes[:-2]), n, weight=random.random())\n",
    "\n",
    "    return g\n"
   ]
  },
  {
   "cell_type": "code",
   "execution_count": null,
   "metadata": {},
   "outputs": [],
   "source": [
    "g = generate_random_graph(30)\n",
    "\n",
    "logger.info(str(g))\n",
    "\n",
    "graph_ops = GraphOps(\n",
    "    g,\n",
    "    spread_schema=SchemaType,\n",
    "    decay_factor=0.9,\n",
    "    threshold=0.3,\n",
    "    max_steps=10,\n",
    ")\n",
    "\n",
    "logger.info(\"Starting the graph operations\")\n",
    "graph_ops.create_priority_queue()\n",
    "logger.info(\"Finished traversing the graph\")\n",
    "graph_ops.activate_priority_queue()\n",
    "logger.info(\"Finished the graph operations\")\n",
    "\n",
    "logger.info(str(g))\n"
   ]
  },
  {
   "cell_type": "code",
   "execution_count": null,
   "metadata": {},
   "outputs": [],
   "source": []
  }
 ],
 "metadata": {
  "kernelspec": {
   "display_name": ".venv",
   "language": "python",
   "name": "python3"
  },
  "language_info": {
   "codemirror_mode": {
    "name": "ipython",
    "version": 3
   },
   "file_extension": ".py",
   "mimetype": "text/x-python",
   "name": "python",
   "nbconvert_exporter": "python",
   "pygments_lexer": "ipython3",
   "version": "3.12.3"
  }
 },
 "nbformat": 4,
 "nbformat_minor": 2
}
